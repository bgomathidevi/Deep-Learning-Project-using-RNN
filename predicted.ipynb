{
 "cells": [
  {
   "cell_type": "code",
   "execution_count": 1,
   "metadata": {},
   "outputs": [],
   "source": [
    "# Step 1: Import Libraries and Load the Model\n",
    "import numpy as np\n",
    "import tensorflow as tf\n",
    "from tensorflow.keras.datasets import imdb\n",
    "from tensorflow.keras.preprocessing import sequence\n",
    "from tensorflow.keras.models import load_model"
   ]
  },
  {
   "cell_type": "code",
   "execution_count": 2,
   "metadata": {},
   "outputs": [],
   "source": [
    "\n",
    "# Load the IMDB dataset word index\n",
    "word_index = imdb.get_word_index()\n",
    "reverse_word_index = {value: key for key, value in word_index.items()}"
   ]
  },
  {
   "cell_type": "code",
   "execution_count": 3,
   "metadata": {},
   "outputs": [
    {
     "name": "stderr",
     "output_type": "stream",
     "text": [
      "WARNING:absl:Compiled the loaded model, but the compiled metrics have yet to be built. `model.compile_metrics` will be empty until you train or evaluate the model.\n"
     ]
    },
    {
     "data": {
      "text/html": [
       "<pre style=\"white-space:pre;overflow-x:auto;line-height:normal;font-family:Menlo,'DejaVu Sans Mono',consolas,'Courier New',monospace\"><span style=\"font-weight: bold\">Model: \"sequential_2\"</span>\n",
       "</pre>\n"
      ],
      "text/plain": [
       "\u001b[1mModel: \"sequential_2\"\u001b[0m\n"
      ]
     },
     "metadata": {},
     "output_type": "display_data"
    },
    {
     "data": {
      "text/html": [
       "<pre style=\"white-space:pre;overflow-x:auto;line-height:normal;font-family:Menlo,'DejaVu Sans Mono',consolas,'Courier New',monospace\">┏━━━━━━━━━━━━━━━━━━━━━━━━━━━━━━━━━┳━━━━━━━━━━━━━━━━━━━━━━━━┳━━━━━━━━━━━━━━━┓\n",
       "┃<span style=\"font-weight: bold\"> Layer (type)                    </span>┃<span style=\"font-weight: bold\"> Output Shape           </span>┃<span style=\"font-weight: bold\">       Param # </span>┃\n",
       "┡━━━━━━━━━━━━━━━━━━━━━━━━━━━━━━━━━╇━━━━━━━━━━━━━━━━━━━━━━━━╇━━━━━━━━━━━━━━━┩\n",
       "│ embedding_2 (<span style=\"color: #0087ff; text-decoration-color: #0087ff\">Embedding</span>)         │ (<span style=\"color: #00d7ff; text-decoration-color: #00d7ff\">None</span>, <span style=\"color: #00af00; text-decoration-color: #00af00\">100</span>, <span style=\"color: #00af00; text-decoration-color: #00af00\">128</span>)       │     <span style=\"color: #00af00; text-decoration-color: #00af00\">2,560,000</span> │\n",
       "├─────────────────────────────────┼────────────────────────┼───────────────┤\n",
       "│ simple_rnn_2 (<span style=\"color: #0087ff; text-decoration-color: #0087ff\">SimpleRNN</span>)        │ (<span style=\"color: #00d7ff; text-decoration-color: #00d7ff\">None</span>, <span style=\"color: #00af00; text-decoration-color: #00af00\">128</span>)            │        <span style=\"color: #00af00; text-decoration-color: #00af00\">32,896</span> │\n",
       "├─────────────────────────────────┼────────────────────────┼───────────────┤\n",
       "│ dense_2 (<span style=\"color: #0087ff; text-decoration-color: #0087ff\">Dense</span>)                 │ (<span style=\"color: #00d7ff; text-decoration-color: #00d7ff\">None</span>, <span style=\"color: #00af00; text-decoration-color: #00af00\">1</span>)              │           <span style=\"color: #00af00; text-decoration-color: #00af00\">129</span> │\n",
       "└─────────────────────────────────┴────────────────────────┴───────────────┘\n",
       "</pre>\n"
      ],
      "text/plain": [
       "┏━━━━━━━━━━━━━━━━━━━━━━━━━━━━━━━━━┳━━━━━━━━━━━━━━━━━━━━━━━━┳━━━━━━━━━━━━━━━┓\n",
       "┃\u001b[1m \u001b[0m\u001b[1mLayer (type)                   \u001b[0m\u001b[1m \u001b[0m┃\u001b[1m \u001b[0m\u001b[1mOutput Shape          \u001b[0m\u001b[1m \u001b[0m┃\u001b[1m \u001b[0m\u001b[1m      Param #\u001b[0m\u001b[1m \u001b[0m┃\n",
       "┡━━━━━━━━━━━━━━━━━━━━━━━━━━━━━━━━━╇━━━━━━━━━━━━━━━━━━━━━━━━╇━━━━━━━━━━━━━━━┩\n",
       "│ embedding_2 (\u001b[38;5;33mEmbedding\u001b[0m)         │ (\u001b[38;5;45mNone\u001b[0m, \u001b[38;5;34m100\u001b[0m, \u001b[38;5;34m128\u001b[0m)       │     \u001b[38;5;34m2,560,000\u001b[0m │\n",
       "├─────────────────────────────────┼────────────────────────┼───────────────┤\n",
       "│ simple_rnn_2 (\u001b[38;5;33mSimpleRNN\u001b[0m)        │ (\u001b[38;5;45mNone\u001b[0m, \u001b[38;5;34m128\u001b[0m)            │        \u001b[38;5;34m32,896\u001b[0m │\n",
       "├─────────────────────────────────┼────────────────────────┼───────────────┤\n",
       "│ dense_2 (\u001b[38;5;33mDense\u001b[0m)                 │ (\u001b[38;5;45mNone\u001b[0m, \u001b[38;5;34m1\u001b[0m)              │           \u001b[38;5;34m129\u001b[0m │\n",
       "└─────────────────────────────────┴────────────────────────┴───────────────┘\n"
      ]
     },
     "metadata": {},
     "output_type": "display_data"
    },
    {
     "data": {
      "text/html": [
       "<pre style=\"white-space:pre;overflow-x:auto;line-height:normal;font-family:Menlo,'DejaVu Sans Mono',consolas,'Courier New',monospace\"><span style=\"font-weight: bold\"> Total params: </span><span style=\"color: #00af00; text-decoration-color: #00af00\">2,593,027</span> (9.89 MB)\n",
       "</pre>\n"
      ],
      "text/plain": [
       "\u001b[1m Total params: \u001b[0m\u001b[38;5;34m2,593,027\u001b[0m (9.89 MB)\n"
      ]
     },
     "metadata": {},
     "output_type": "display_data"
    },
    {
     "data": {
      "text/html": [
       "<pre style=\"white-space:pre;overflow-x:auto;line-height:normal;font-family:Menlo,'DejaVu Sans Mono',consolas,'Courier New',monospace\"><span style=\"font-weight: bold\"> Trainable params: </span><span style=\"color: #00af00; text-decoration-color: #00af00\">2,593,025</span> (9.89 MB)\n",
       "</pre>\n"
      ],
      "text/plain": [
       "\u001b[1m Trainable params: \u001b[0m\u001b[38;5;34m2,593,025\u001b[0m (9.89 MB)\n"
      ]
     },
     "metadata": {},
     "output_type": "display_data"
    },
    {
     "data": {
      "text/html": [
       "<pre style=\"white-space:pre;overflow-x:auto;line-height:normal;font-family:Menlo,'DejaVu Sans Mono',consolas,'Courier New',monospace\"><span style=\"font-weight: bold\"> Non-trainable params: </span><span style=\"color: #00af00; text-decoration-color: #00af00\">0</span> (0.00 B)\n",
       "</pre>\n"
      ],
      "text/plain": [
       "\u001b[1m Non-trainable params: \u001b[0m\u001b[38;5;34m0\u001b[0m (0.00 B)\n"
      ]
     },
     "metadata": {},
     "output_type": "display_data"
    },
    {
     "data": {
      "text/html": [
       "<pre style=\"white-space:pre;overflow-x:auto;line-height:normal;font-family:Menlo,'DejaVu Sans Mono',consolas,'Courier New',monospace\"><span style=\"font-weight: bold\"> Optimizer params: </span><span style=\"color: #00af00; text-decoration-color: #00af00\">2</span> (12.00 B)\n",
       "</pre>\n"
      ],
      "text/plain": [
       "\u001b[1m Optimizer params: \u001b[0m\u001b[38;5;34m2\u001b[0m (12.00 B)\n"
      ]
     },
     "metadata": {},
     "output_type": "display_data"
    }
   ],
   "source": [
    "# Load the pre-trained model with ReLU activation\n",
    "model = load_model('rnn_imdb.h5')\n",
    "model.summary()"
   ]
  },
  {
   "cell_type": "code",
   "execution_count": 4,
   "metadata": {},
   "outputs": [
    {
     "data": {
      "text/plain": [
       "[array([[-0.05974626,  0.02618392,  0.25452936, ...,  0.12528884,\n",
       "         -0.21471778, -0.18343703],\n",
       "        [ 0.00751198, -0.05229684,  0.1330626 , ...,  0.05542469,\n",
       "         -0.03848886, -0.06170558],\n",
       "        [ 0.02953574,  0.036335  ,  0.15703763, ...,  0.04255601,\n",
       "          0.02190449, -0.04814289],\n",
       "        ...,\n",
       "        [-0.04348397,  0.0159122 , -0.00562606, ..., -0.00819528,\n",
       "         -0.04466027, -0.02665356],\n",
       "        [-0.04761544, -0.10218976, -0.10599538, ..., -0.04028868,\n",
       "         -0.07515687,  0.04431716],\n",
       "        [-0.03729199, -0.01857357, -0.03713303, ..., -0.00820978,\n",
       "          0.01525949,  0.00619572]], dtype=float32),\n",
       " array([[-0.17769815,  0.03710852, -0.09895974, ...,  0.18073231,\n",
       "         -0.23403388, -0.10904051],\n",
       "        [-0.07258331, -0.12578312,  0.14312609, ..., -0.07078014,\n",
       "         -0.15721346,  0.20258947],\n",
       "        [ 0.09889229,  0.03412454, -0.18390769, ..., -0.17287558,\n",
       "          0.11514651,  0.07149947],\n",
       "        ...,\n",
       "        [-0.1382613 , -0.19598062,  0.13800813, ...,  0.00194972,\n",
       "         -0.05673615,  0.1601651 ],\n",
       "        [-0.034938  ,  0.03417539,  0.12165273, ...,  0.00556086,\n",
       "         -0.06640977,  0.19404292],\n",
       "        [ 0.08172382,  0.02309338,  0.07115906, ...,  0.09169447,\n",
       "         -0.14040962,  0.0204582 ]], dtype=float32),\n",
       " array([[ 0.00555578, -0.02468095, -0.05423576, ..., -0.03537767,\n",
       "         -0.08711986, -0.00910589],\n",
       "        [-0.06863804, -0.05135794,  0.21463236, ..., -0.03076106,\n",
       "         -0.05999993, -0.11613139],\n",
       "        [-0.13346295, -0.00587768, -0.00908929, ...,  0.13882488,\n",
       "          0.01824489,  0.06146573],\n",
       "        ...,\n",
       "        [ 0.05553677,  0.14983703,  0.0782878 , ..., -0.07174218,\n",
       "         -0.06758907, -0.05001684],\n",
       "        [-0.04518968,  0.08034266,  0.02058242, ...,  0.04793536,\n",
       "         -0.19150977,  0.05111089],\n",
       "        [-0.03187738, -0.04761406, -0.00989748, ...,  0.1166957 ,\n",
       "         -0.00600062,  0.08833694]], dtype=float32),\n",
       " array([-0.01982369, -0.01468332,  0.00136921, -0.02205535, -0.01397481,\n",
       "        -0.03140445,  0.09314041, -0.00497114, -0.00782425,  0.04080761,\n",
       "         0.03048863,  0.01970164,  0.02523331, -0.0347783 , -0.04679374,\n",
       "        -0.00802272, -0.00110991, -0.01359423,  0.01286656, -0.00782327,\n",
       "        -0.01142028, -0.00734914,  0.01020756,  0.00370751, -0.03511696,\n",
       "        -0.04905849, -0.00689392,  0.00019239, -0.04325657, -0.02083562,\n",
       "        -0.00694388, -0.00974647, -0.01818185,  0.03080072, -0.02507443,\n",
       "        -0.00724538, -0.03718334, -0.03115837, -0.01723256, -0.02128885,\n",
       "        -0.01296216,  0.01246236, -0.0225992 , -0.02248345, -0.00493096,\n",
       "        -0.01903969, -0.01342281,  0.03549021, -0.01624531, -0.01998445,\n",
       "        -0.01443167,  0.01243218, -0.01178154,  0.0452714 ,  0.00015034,\n",
       "        -0.01542774,  0.0306649 , -0.00158848, -0.013046  ,  0.00542696,\n",
       "         0.00681555, -0.03211928,  0.01674544,  0.03781787, -0.01775674,\n",
       "         0.00266581,  0.0051817 , -0.03804891, -0.01517049, -0.00475984,\n",
       "        -0.02045892,  0.01740769, -0.00258643, -0.00173021,  0.02273752,\n",
       "        -0.01325138, -0.02633355, -0.01897028, -0.03505522, -0.01301988,\n",
       "        -0.02459509, -0.0159762 ,  0.00570491, -0.01328849,  0.00464529,\n",
       "        -0.02507826, -0.01285224,  0.00759875,  0.03147322,  0.01929475,\n",
       "         0.04041037, -0.00558867, -0.0217551 ,  0.00485721, -0.03031544,\n",
       "        -0.01033524, -0.02873675, -0.00742758, -0.01011883, -0.00074413,\n",
       "         0.00976183, -0.01068147, -0.03501128, -0.02458674, -0.02142357,\n",
       "        -0.00833422,  0.00221999,  0.04882343, -0.01721161,  0.02987784,\n",
       "         0.01024348, -0.01810838,  0.0255118 ,  0.01023514, -0.0089454 ,\n",
       "        -0.03912613, -0.01805149, -0.00099203,  0.02958386,  0.01059979,\n",
       "         0.02126713, -0.05072538, -0.01272747,  0.00315593,  0.00488149,\n",
       "        -0.00800176,  0.00934984,  0.00016393], dtype=float32),\n",
       " array([[ 0.06784096],\n",
       "        [-0.01309478],\n",
       "        [-0.02065208],\n",
       "        [ 0.02901308],\n",
       "        [-0.12472866],\n",
       "        [-0.07258877],\n",
       "        [-0.17783011],\n",
       "        [-0.07517174],\n",
       "        [ 0.06295012],\n",
       "        [ 0.04872546],\n",
       "        [ 0.0948049 ],\n",
       "        [ 0.33153385],\n",
       "        [-0.27734727],\n",
       "        [ 0.14151959],\n",
       "        [ 0.12861463],\n",
       "        [ 0.16434428],\n",
       "        [-0.39349014],\n",
       "        [-0.28641087],\n",
       "        [-0.29168352],\n",
       "        [ 0.24736732],\n",
       "        [ 0.1285773 ],\n",
       "        [-0.1910407 ],\n",
       "        [ 0.24477918],\n",
       "        [ 0.20277846],\n",
       "        [ 0.2031901 ],\n",
       "        [ 0.2067409 ],\n",
       "        [ 0.05898898],\n",
       "        [-0.03275268],\n",
       "        [-0.01019206],\n",
       "        [ 0.10307017],\n",
       "        [ 0.1867468 ],\n",
       "        [-0.211384  ],\n",
       "        [-0.14875488],\n",
       "        [ 0.2231244 ],\n",
       "        [ 0.31427428],\n",
       "        [-0.24351712],\n",
       "        [ 0.01246716],\n",
       "        [ 0.11906139],\n",
       "        [ 0.23271829],\n",
       "        [ 0.1259945 ],\n",
       "        [-0.1560177 ],\n",
       "        [ 0.04406179],\n",
       "        [-0.08124046],\n",
       "        [-0.2042628 ],\n",
       "        [-0.22716828],\n",
       "        [ 0.2917149 ],\n",
       "        [ 0.0283795 ],\n",
       "        [-0.43105713],\n",
       "        [-0.10969466],\n",
       "        [ 0.04921084],\n",
       "        [-0.09412939],\n",
       "        [ 0.2547744 ],\n",
       "        [ 0.11131231],\n",
       "        [-0.32770514],\n",
       "        [-0.0159921 ],\n",
       "        [ 0.19454911],\n",
       "        [ 0.4032448 ],\n",
       "        [-0.20008652],\n",
       "        [ 0.08918863],\n",
       "        [-0.19188172],\n",
       "        [-0.17655677],\n",
       "        [ 0.03281937],\n",
       "        [ 0.03992676],\n",
       "        [ 0.36060813],\n",
       "        [-0.13351007],\n",
       "        [ 0.40236953],\n",
       "        [ 0.28378206],\n",
       "        [-0.10582881],\n",
       "        [-0.15893993],\n",
       "        [-0.49420267],\n",
       "        [-0.04337204],\n",
       "        [ 0.2962785 ],\n",
       "        [ 0.08936863],\n",
       "        [ 0.26491106],\n",
       "        [ 0.31458122],\n",
       "        [ 0.17825162],\n",
       "        [-0.32104358],\n",
       "        [-0.12086857],\n",
       "        [ 0.09307079],\n",
       "        [ 0.04657421],\n",
       "        [-0.00545541],\n",
       "        [-0.17762698],\n",
       "        [ 0.19810246],\n",
       "        [-0.04800469],\n",
       "        [-0.08555732],\n",
       "        [-0.26657888],\n",
       "        [-0.02792468],\n",
       "        [ 0.28719765],\n",
       "        [-0.20094234],\n",
       "        [-0.02553843],\n",
       "        [ 0.11587236],\n",
       "        [-0.03224696],\n",
       "        [-0.08701468],\n",
       "        [ 0.56115043],\n",
       "        [-0.10533631],\n",
       "        [ 0.04264931],\n",
       "        [ 0.10841154],\n",
       "        [ 0.3136568 ],\n",
       "        [-0.067848  ],\n",
       "        [-0.2578015 ],\n",
       "        [-0.22454154],\n",
       "        [ 0.16693296],\n",
       "        [ 0.1823604 ],\n",
       "        [ 0.14048174],\n",
       "        [-0.26054007],\n",
       "        [-0.2636722 ],\n",
       "        [-0.12237947],\n",
       "        [ 0.7552554 ],\n",
       "        [ 0.28602013],\n",
       "        [ 0.28099704],\n",
       "        [-0.16905835],\n",
       "        [-0.15934636],\n",
       "        [-0.32444325],\n",
       "        [-0.07686197],\n",
       "        [ 0.01626754],\n",
       "        [-0.13638847],\n",
       "        [ 0.06952571],\n",
       "        [-0.02424849],\n",
       "        [ 0.12230958],\n",
       "        [ 0.25956213],\n",
       "        [ 0.36351198],\n",
       "        [ 0.0645252 ],\n",
       "        [ 0.2148152 ],\n",
       "        [ 0.12838514],\n",
       "        [ 0.43550268],\n",
       "        [ 0.01743539],\n",
       "        [ 0.34279144],\n",
       "        [-0.2443845 ]], dtype=float32),\n",
       " array([0.00774928], dtype=float32)]"
      ]
     },
     "execution_count": 4,
     "metadata": {},
     "output_type": "execute_result"
    }
   ],
   "source": [
    "model.get_weights()"
   ]
  },
  {
   "cell_type": "code",
   "execution_count": 5,
   "metadata": {},
   "outputs": [],
   "source": [
    "# Step 2: Helper Functions\n",
    "# Function to decode reviews\n",
    "def decode_review(encoded_review):\n",
    "    return ' '.join([reverse_word_index.get(i - 3, '?') for i in encoded_review])\n",
    "\n",
    "# Function to preprocess user input\n",
    "def preprocess_text(text):\n",
    "    words = text.lower().split()\n",
    "    encoded_review = [word_index.get(word, 2) + 3 for word in words]\n",
    "    padded_review = sequence.pad_sequences([encoded_review], maxlen=500)\n",
    "    return padded_review"
   ]
  },
  {
   "cell_type": "code",
   "execution_count": 6,
   "metadata": {},
   "outputs": [],
   "source": [
    "### Prediction  function\n",
    "\n",
    "def predict_sentiment(review):\n",
    "    preprocessed_input=preprocess_text(review)\n",
    "\n",
    "    prediction=model.predict(preprocessed_input)\n",
    "\n",
    "    sentiment = 'Positive' if prediction[0][0] > 0.5 else 'Negative'\n",
    "    \n",
    "    return sentiment, prediction[0][0]\n",
    "\n"
   ]
  },
  {
   "cell_type": "code",
   "execution_count": 7,
   "metadata": {},
   "outputs": [
    {
     "name": "stdout",
     "output_type": "stream",
     "text": [
      "\u001b[1m1/1\u001b[0m \u001b[32m━━━━━━━━━━━━━━━━━━━━\u001b[0m\u001b[37m\u001b[0m \u001b[1m1s\u001b[0m 765ms/step\n",
      "Review: This movie was fantastic! The acting was great and the plot was thrilling.\n",
      "Sentiment: Positive\n",
      "Prediction Score: 0.873073160648346\n"
     ]
    }
   ],
   "source": [
    "# Step 4: User Input and Prediction\n",
    "# Example review for prediction\n",
    "example_review = \"This movie was fantastic! The acting was great and the plot was thrilling.\"\n",
    "\n",
    "sentiment,score=predict_sentiment(example_review)\n",
    "\n",
    "print(f'Review: {example_review}')\n",
    "print(f'Sentiment: {sentiment}')\n",
    "print(f'Prediction Score: {score}')"
   ]
  }
 ],
 "metadata": {
  "kernelspec": {
   "display_name": ".venv",
   "language": "python",
   "name": "python3"
  },
  "language_info": {
   "codemirror_mode": {
    "name": "ipython",
    "version": 3
   },
   "file_extension": ".py",
   "mimetype": "text/x-python",
   "name": "python",
   "nbconvert_exporter": "python",
   "pygments_lexer": "ipython3",
   "version": "3.12.2"
  }
 },
 "nbformat": 4,
 "nbformat_minor": 2
}
